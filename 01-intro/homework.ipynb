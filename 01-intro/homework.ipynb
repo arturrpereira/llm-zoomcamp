{
 "cells": [
  {
   "cell_type": "code",
   "execution_count": 6,
   "id": "c28e1df7-8c4e-426f-a9bd-89d68cffb58f",
   "metadata": {},
   "outputs": [],
   "source": [
    "import openai"
   ]
  },
  {
   "cell_type": "code",
   "execution_count": 7,
   "id": "2c616fe4-629a-4ad1-a4fd-e7d36d2b36af",
   "metadata": {},
   "outputs": [],
   "source": [
    "from openai import OpenAI"
   ]
  },
  {
   "cell_type": "code",
   "execution_count": 9,
   "id": "cb2717f6-bfb4-4e8e-92a8-75a4d62ff3f4",
   "metadata": {},
   "outputs": [],
   "source": [
    "client = OpenAI()"
   ]
  },
  {
   "cell_type": "code",
   "execution_count": 10,
   "id": "50a0d083-30b8-4363-b7a7-c9caedfe3eda",
   "metadata": {},
   "outputs": [],
   "source": [
    "import os"
   ]
  },
  {
   "cell_type": "code",
   "execution_count": 12,
   "id": "8ec8c8b8-bfdc-42e3-ad60-8ad6fbe7f864",
   "metadata": {},
   "outputs": [],
   "source": [
    "response = client.chat.completions.create(\n",
    "    model='gpt-4o',\n",
    "    messages=[{\"role\": \"user\", \"content\": \"is it too late to join the course?\"}]\n",
    ")"
   ]
  },
  {
   "cell_type": "code",
   "execution_count": 14,
   "id": "23b7450e-bb70-4a42-8c4e-40a5d20e6bd6",
   "metadata": {},
   "outputs": [
    {
     "data": {
      "text/plain": [
       "\"To determine if it's too late to join a course, you'll need to consider several factors:\\n\\n1. **Enrollment Deadlines**: Check if the course has a set enrollment deadline. This information is typically available on the course website or by contacting the course provider directly.\\n\\n2. **Start Date**: Look at the course start date. If the course has already started, find out if they allow late enrollment or if you can catch up with the missed content.\\n\\n3. **Course Format**: Some courses, especially online ones, may offer rolling admissions or self-paced formats, meaning you can join at any time.\\n\\n4. **Instructor or Institution Policy**: Some instructors or institutions have flexible policies regarding late enrollment, allowing you to join a few days or even weeks after the course has begun.\\n\\n5. **Your Capacity to Catch Up**: Consider your ability to quickly catch up on missed lectures, assignments, or materials. If you're comfortable doing so, you might still be able to join even after the start date.\\n\\n6. **Contact the Institution or Instructor**: If you're unsure about any of the above, it's always a good idea to reach out directly to the course provider, institution, or instructor to inquire about your specific situation.\\n\\nIf you have a specific course in mind, try finding their customer support or official contact information to get a definitive answer.\""
      ]
     },
     "execution_count": 14,
     "metadata": {},
     "output_type": "execute_result"
    }
   ],
   "source": [
    "response.choices[0].message.content"
   ]
  },
  {
   "cell_type": "code",
   "execution_count": null,
   "id": "07b30b18-4c41-41db-90ba-651604878a63",
   "metadata": {},
   "outputs": [],
   "source": []
  }
 ],
 "metadata": {
  "kernelspec": {
   "display_name": "Python 3 (ipykernel)",
   "language": "python",
   "name": "python3"
  },
  "language_info": {
   "codemirror_mode": {
    "name": "ipython",
    "version": 3
   },
   "file_extension": ".py",
   "mimetype": "text/x-python",
   "name": "python",
   "nbconvert_exporter": "python",
   "pygments_lexer": "ipython3",
   "version": "3.12.0"
  }
 },
 "nbformat": 4,
 "nbformat_minor": 5
}
